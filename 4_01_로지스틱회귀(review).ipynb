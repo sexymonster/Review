{
  "nbformat": 4,
  "nbformat_minor": 0,
  "metadata": {
    "colab": {
      "name": "4-01 로지스틱회귀.ipynb",
      "provenance": [],
      "collapsed_sections": [],
      "authorship_tag": "ABX9TyND8CvcfGjsvghV3dLPh+AO"
    },
    "kernelspec": {
      "name": "python3",
      "display_name": "Python 3"
    },
    "language_info": {
      "name": "python"
    }
  },
  "cells": [
    {
      "cell_type": "code",
      "execution_count": 1,
      "metadata": {
        "id": "7ymC8J6apDYW",
        "colab": {
          "base_uri": "https://localhost:8080/",
          "height": 206
        },
        "outputId": "b46d3496-b48d-4f21-8302-36e827c8a3c1"
      },
      "outputs": [
        {
          "output_type": "execute_result",
          "data": {
            "text/plain": [
              "  Species  Weight  Length  Diagonal   Height   Width\n",
              "0   Bream   242.0    25.4      30.0  11.5200  4.0200\n",
              "1   Bream   290.0    26.3      31.2  12.4800  4.3056\n",
              "2   Bream   340.0    26.5      31.1  12.3778  4.6961\n",
              "3   Bream   363.0    29.0      33.5  12.7300  4.4555\n",
              "4   Bream   430.0    29.0      34.0  12.4440  5.1340"
            ],
            "text/html": [
              "\n",
              "  <div id=\"df-5b936d2a-c906-4c41-996e-47158c3f27ca\">\n",
              "    <div class=\"colab-df-container\">\n",
              "      <div>\n",
              "<style scoped>\n",
              "    .dataframe tbody tr th:only-of-type {\n",
              "        vertical-align: middle;\n",
              "    }\n",
              "\n",
              "    .dataframe tbody tr th {\n",
              "        vertical-align: top;\n",
              "    }\n",
              "\n",
              "    .dataframe thead th {\n",
              "        text-align: right;\n",
              "    }\n",
              "</style>\n",
              "<table border=\"1\" class=\"dataframe\">\n",
              "  <thead>\n",
              "    <tr style=\"text-align: right;\">\n",
              "      <th></th>\n",
              "      <th>Species</th>\n",
              "      <th>Weight</th>\n",
              "      <th>Length</th>\n",
              "      <th>Diagonal</th>\n",
              "      <th>Height</th>\n",
              "      <th>Width</th>\n",
              "    </tr>\n",
              "  </thead>\n",
              "  <tbody>\n",
              "    <tr>\n",
              "      <th>0</th>\n",
              "      <td>Bream</td>\n",
              "      <td>242.0</td>\n",
              "      <td>25.4</td>\n",
              "      <td>30.0</td>\n",
              "      <td>11.5200</td>\n",
              "      <td>4.0200</td>\n",
              "    </tr>\n",
              "    <tr>\n",
              "      <th>1</th>\n",
              "      <td>Bream</td>\n",
              "      <td>290.0</td>\n",
              "      <td>26.3</td>\n",
              "      <td>31.2</td>\n",
              "      <td>12.4800</td>\n",
              "      <td>4.3056</td>\n",
              "    </tr>\n",
              "    <tr>\n",
              "      <th>2</th>\n",
              "      <td>Bream</td>\n",
              "      <td>340.0</td>\n",
              "      <td>26.5</td>\n",
              "      <td>31.1</td>\n",
              "      <td>12.3778</td>\n",
              "      <td>4.6961</td>\n",
              "    </tr>\n",
              "    <tr>\n",
              "      <th>3</th>\n",
              "      <td>Bream</td>\n",
              "      <td>363.0</td>\n",
              "      <td>29.0</td>\n",
              "      <td>33.5</td>\n",
              "      <td>12.7300</td>\n",
              "      <td>4.4555</td>\n",
              "    </tr>\n",
              "    <tr>\n",
              "      <th>4</th>\n",
              "      <td>Bream</td>\n",
              "      <td>430.0</td>\n",
              "      <td>29.0</td>\n",
              "      <td>34.0</td>\n",
              "      <td>12.4440</td>\n",
              "      <td>5.1340</td>\n",
              "    </tr>\n",
              "  </tbody>\n",
              "</table>\n",
              "</div>\n",
              "      <button class=\"colab-df-convert\" onclick=\"convertToInteractive('df-5b936d2a-c906-4c41-996e-47158c3f27ca')\"\n",
              "              title=\"Convert this dataframe to an interactive table.\"\n",
              "              style=\"display:none;\">\n",
              "        \n",
              "  <svg xmlns=\"http://www.w3.org/2000/svg\" height=\"24px\"viewBox=\"0 0 24 24\"\n",
              "       width=\"24px\">\n",
              "    <path d=\"M0 0h24v24H0V0z\" fill=\"none\"/>\n",
              "    <path d=\"M18.56 5.44l.94 2.06.94-2.06 2.06-.94-2.06-.94-.94-2.06-.94 2.06-2.06.94zm-11 1L8.5 8.5l.94-2.06 2.06-.94-2.06-.94L8.5 2.5l-.94 2.06-2.06.94zm10 10l.94 2.06.94-2.06 2.06-.94-2.06-.94-.94-2.06-.94 2.06-2.06.94z\"/><path d=\"M17.41 7.96l-1.37-1.37c-.4-.4-.92-.59-1.43-.59-.52 0-1.04.2-1.43.59L10.3 9.45l-7.72 7.72c-.78.78-.78 2.05 0 2.83L4 21.41c.39.39.9.59 1.41.59.51 0 1.02-.2 1.41-.59l7.78-7.78 2.81-2.81c.8-.78.8-2.07 0-2.86zM5.41 20L4 18.59l7.72-7.72 1.47 1.35L5.41 20z\"/>\n",
              "  </svg>\n",
              "      </button>\n",
              "      \n",
              "  <style>\n",
              "    .colab-df-container {\n",
              "      display:flex;\n",
              "      flex-wrap:wrap;\n",
              "      gap: 12px;\n",
              "    }\n",
              "\n",
              "    .colab-df-convert {\n",
              "      background-color: #E8F0FE;\n",
              "      border: none;\n",
              "      border-radius: 50%;\n",
              "      cursor: pointer;\n",
              "      display: none;\n",
              "      fill: #1967D2;\n",
              "      height: 32px;\n",
              "      padding: 0 0 0 0;\n",
              "      width: 32px;\n",
              "    }\n",
              "\n",
              "    .colab-df-convert:hover {\n",
              "      background-color: #E2EBFA;\n",
              "      box-shadow: 0px 1px 2px rgba(60, 64, 67, 0.3), 0px 1px 3px 1px rgba(60, 64, 67, 0.15);\n",
              "      fill: #174EA6;\n",
              "    }\n",
              "\n",
              "    [theme=dark] .colab-df-convert {\n",
              "      background-color: #3B4455;\n",
              "      fill: #D2E3FC;\n",
              "    }\n",
              "\n",
              "    [theme=dark] .colab-df-convert:hover {\n",
              "      background-color: #434B5C;\n",
              "      box-shadow: 0px 1px 3px 1px rgba(0, 0, 0, 0.15);\n",
              "      filter: drop-shadow(0px 1px 2px rgba(0, 0, 0, 0.3));\n",
              "      fill: #FFFFFF;\n",
              "    }\n",
              "  </style>\n",
              "\n",
              "      <script>\n",
              "        const buttonEl =\n",
              "          document.querySelector('#df-5b936d2a-c906-4c41-996e-47158c3f27ca button.colab-df-convert');\n",
              "        buttonEl.style.display =\n",
              "          google.colab.kernel.accessAllowed ? 'block' : 'none';\n",
              "\n",
              "        async function convertToInteractive(key) {\n",
              "          const element = document.querySelector('#df-5b936d2a-c906-4c41-996e-47158c3f27ca');\n",
              "          const dataTable =\n",
              "            await google.colab.kernel.invokeFunction('convertToInteractive',\n",
              "                                                     [key], {});\n",
              "          if (!dataTable) return;\n",
              "\n",
              "          const docLinkHtml = 'Like what you see? Visit the ' +\n",
              "            '<a target=\"_blank\" href=https://colab.research.google.com/notebooks/data_table.ipynb>data table notebook</a>'\n",
              "            + ' to learn more about interactive tables.';\n",
              "          element.innerHTML = '';\n",
              "          dataTable['output_type'] = 'display_data';\n",
              "          await google.colab.output.renderOutput(dataTable, element);\n",
              "          const docLink = document.createElement('div');\n",
              "          docLink.innerHTML = docLinkHtml;\n",
              "          element.appendChild(docLink);\n",
              "        }\n",
              "      </script>\n",
              "    </div>\n",
              "  </div>\n",
              "  "
            ]
          },
          "metadata": {},
          "execution_count": 1
        }
      ],
      "source": [
        "import pandas as pd\n",
        "fish = pd.read_csv(\"https://bit.ly/fish_csv\")\n",
        "fish.head()"
      ]
    },
    {
      "cell_type": "code",
      "source": [
        "# 특정 컬럼의 밸류값 pd.unique()\n",
        "print(pd.unique(fish[\"Species\"]))"
      ],
      "metadata": {
        "colab": {
          "base_uri": "https://localhost:8080/"
        },
        "id": "Ry30YrSZyESR",
        "outputId": "ef3d24ee-5140-4c25-da90-73372ffd32ce"
      },
      "execution_count": 2,
      "outputs": [
        {
          "output_type": "stream",
          "name": "stdout",
          "text": [
            "['Bream' 'Roach' 'Whitefish' 'Parkki' 'Perch' 'Pike' 'Smelt']\n"
          ]
        }
      ]
    },
    {
      "cell_type": "code",
      "source": [
        "print(fish.Species.unique())"
      ],
      "metadata": {
        "colab": {
          "base_uri": "https://localhost:8080/"
        },
        "id": "iXPMna3TXE1_",
        "outputId": "5b79b488-7e26-4c3d-f48a-9ac570395ae9"
      },
      "execution_count": 3,
      "outputs": [
        {
          "output_type": "stream",
          "name": "stdout",
          "text": [
            "['Bream' 'Roach' 'Whitefish' 'Parkki' 'Perch' 'Pike' 'Smelt']\n"
          ]
        }
      ]
    },
    {
      "cell_type": "code",
      "source": [
        "fish_input = fish[[\"Weight\",\t\"Length\",\t\"Diagonal\",\t\"Height\",\t\"Width\"]].to_numpy()\n",
        "print(fish_input[:5])"
      ],
      "metadata": {
        "colab": {
          "base_uri": "https://localhost:8080/"
        },
        "id": "o_eB4mo5y9nI",
        "outputId": "f501c351-477f-4658-92c7-7209fc4aa782"
      },
      "execution_count": 4,
      "outputs": [
        {
          "output_type": "stream",
          "name": "stdout",
          "text": [
            "[[242.      25.4     30.      11.52     4.02  ]\n",
            " [290.      26.3     31.2     12.48     4.3056]\n",
            " [340.      26.5     31.1     12.3778   4.6961]\n",
            " [363.      29.      33.5     12.73     4.4555]\n",
            " [430.      29.      34.      12.444    5.134 ]]\n"
          ]
        }
      ]
    },
    {
      "cell_type": "code",
      "source": [
        "fish_target = fish[\"Species\"].to_numpy()\n",
        "print(fish_target)"
      ],
      "metadata": {
        "colab": {
          "base_uri": "https://localhost:8080/"
        },
        "id": "D88SxKV6zyv4",
        "outputId": "8fc0b1c5-32a5-4a59-c6a5-6fbec0cd9ee4"
      },
      "execution_count": 5,
      "outputs": [
        {
          "output_type": "stream",
          "name": "stdout",
          "text": [
            "['Bream' 'Bream' 'Bream' 'Bream' 'Bream' 'Bream' 'Bream' 'Bream' 'Bream'\n",
            " 'Bream' 'Bream' 'Bream' 'Bream' 'Bream' 'Bream' 'Bream' 'Bream' 'Bream'\n",
            " 'Bream' 'Bream' 'Bream' 'Bream' 'Bream' 'Bream' 'Bream' 'Bream' 'Bream'\n",
            " 'Bream' 'Bream' 'Bream' 'Bream' 'Bream' 'Bream' 'Bream' 'Bream' 'Roach'\n",
            " 'Roach' 'Roach' 'Roach' 'Roach' 'Roach' 'Roach' 'Roach' 'Roach' 'Roach'\n",
            " 'Roach' 'Roach' 'Roach' 'Roach' 'Roach' 'Roach' 'Roach' 'Roach' 'Roach'\n",
            " 'Roach' 'Whitefish' 'Whitefish' 'Whitefish' 'Whitefish' 'Whitefish'\n",
            " 'Whitefish' 'Parkki' 'Parkki' 'Parkki' 'Parkki' 'Parkki' 'Parkki'\n",
            " 'Parkki' 'Parkki' 'Parkki' 'Parkki' 'Parkki' 'Perch' 'Perch' 'Perch'\n",
            " 'Perch' 'Perch' 'Perch' 'Perch' 'Perch' 'Perch' 'Perch' 'Perch' 'Perch'\n",
            " 'Perch' 'Perch' 'Perch' 'Perch' 'Perch' 'Perch' 'Perch' 'Perch' 'Perch'\n",
            " 'Perch' 'Perch' 'Perch' 'Perch' 'Perch' 'Perch' 'Perch' 'Perch' 'Perch'\n",
            " 'Perch' 'Perch' 'Perch' 'Perch' 'Perch' 'Perch' 'Perch' 'Perch' 'Perch'\n",
            " 'Perch' 'Perch' 'Perch' 'Perch' 'Perch' 'Perch' 'Perch' 'Perch' 'Perch'\n",
            " 'Perch' 'Perch' 'Perch' 'Perch' 'Perch' 'Perch' 'Perch' 'Perch' 'Pike'\n",
            " 'Pike' 'Pike' 'Pike' 'Pike' 'Pike' 'Pike' 'Pike' 'Pike' 'Pike' 'Pike'\n",
            " 'Pike' 'Pike' 'Pike' 'Pike' 'Pike' 'Pike' 'Smelt' 'Smelt' 'Smelt' 'Smelt'\n",
            " 'Smelt' 'Smelt' 'Smelt' 'Smelt' 'Smelt' 'Smelt' 'Smelt' 'Smelt' 'Smelt'\n",
            " 'Smelt']\n"
          ]
        }
      ]
    },
    {
      "cell_type": "code",
      "source": [
        "from sklearn.model_selection import train_test_split\n",
        "train_input, test_input, train_target, test_target = train_test_split(fish_input, fish_target, random_state=42)\n",
        "print(train_input)"
      ],
      "metadata": {
        "colab": {
          "base_uri": "https://localhost:8080/"
        },
        "id": "swIZ8JYkz-ug",
        "outputId": "a388aa3c-1ae8-4f36-b1b9-9a6bcf1ba5cf"
      },
      "execution_count": 6,
      "outputs": [
        {
          "output_type": "stream",
          "name": "stdout",
          "text": [
            "[[7.20000e+02 3.50000e+01 4.06000e+01 1.63618e+01 6.09000e+00]\n",
            " [5.00000e+02 4.50000e+01 4.80000e+01 6.96000e+00 4.89600e+00]\n",
            " [7.50000e+00 1.05000e+01 1.16000e+01 1.97200e+00 1.16000e+00]\n",
            " [1.10000e+02 2.20000e+01 2.35000e+01 5.52250e+00 3.99500e+00]\n",
            " [1.40000e+02 2.07000e+01 2.32000e+01 8.53760e+00 3.29440e+00]\n",
            " [6.90000e+01 1.82000e+01 2.03000e+01 5.29830e+00 2.82170e+00]\n",
            " [1.10000e+02 2.10000e+01 2.25000e+01 5.69250e+00 3.55500e+00]\n",
            " [6.20000e+02 3.45000e+01 3.97000e+01 1.55227e+01 5.28010e+00]\n",
            " [1.30000e+02 2.13000e+01 2.28000e+01 6.38400e+00 3.53400e+00]\n",
            " [8.50000e+01 2.00000e+01 2.10000e+01 5.08200e+00 2.77200e+00]\n",
            " [6.85000e+02 3.65000e+01 3.90000e+01 1.08810e+01 6.86400e+00]\n",
            " [5.00000e+02 3.10000e+01 3.62000e+01 1.43714e+01 4.81460e+00]\n",
            " [5.14000e+02 3.28000e+01 3.40000e+01 1.00300e+01 6.01800e+00]\n",
            " [2.00000e+02 2.30000e+01 2.58000e+01 1.03458e+01 3.66360e+00]\n",
            " [1.00000e+03 4.40000e+01 4.66000e+01 1.24888e+01 7.59580e+00]\n",
            " [7.14000e+02 3.60000e+01 4.15000e+01 1.65170e+01 5.85150e+00]\n",
            " [8.70000e+00 1.13000e+01 1.26000e+01 1.97820e+00 1.28520e+00]\n",
            " [1.00000e+03 4.30000e+01 4.52000e+01 1.19328e+01 7.27720e+00]\n",
            " [1.10000e+02 2.08000e+01 2.31000e+01 6.16770e+00 3.39570e+00]\n",
            " [4.30000e+02 2.90000e+01 3.40000e+01 1.24440e+01 5.13400e+00]\n",
            " [4.56000e+02 4.25000e+01 4.55000e+01 7.28000e+00 4.32250e+00]\n",
            " [9.25000e+02 3.95000e+01 4.53000e+01 1.87542e+01 6.74970e+00]\n",
            " [9.50000e+02 5.17000e+01 5.51000e+01 8.92620e+00 6.17120e+00]\n",
            " [2.50000e+02 2.75000e+01 2.89000e+01 7.28280e+00 4.56620e+00]\n",
            " [1.70000e+02 2.07000e+01 2.32000e+01 9.39600e+00 3.41040e+00]\n",
            " [4.75000e+02 3.10000e+01 3.62000e+01 1.42628e+01 5.10420e+00]\n",
            " [1.45000e+02 2.27000e+01 2.42000e+01 5.95320e+00 3.63000e+00]\n",
            " [3.00000e+02 3.73000e+01 3.98000e+01 6.28840e+00 4.01980e+00]\n",
            " [2.42000e+02 2.54000e+01 3.00000e+01 1.15200e+01 4.02000e+00]\n",
            " [6.50000e+02 3.90000e+01 4.14000e+01 1.11366e+01 6.00300e+00]\n",
            " [1.20000e+02 1.90000e+01 2.13000e+01 8.39220e+00 2.91810e+00]\n",
            " [1.45000e+02 2.20000e+01 2.43000e+01 6.63390e+00 3.54780e+00]\n",
            " [1.25000e+02 2.10000e+01 2.25000e+01 5.69250e+00 3.66750e+00]\n",
            " [8.50000e+02 3.60000e+01 4.16000e+01 1.68896e+01 6.19840e+00]\n",
            " [0.00000e+00 2.05000e+01 2.28000e+01 6.47520e+00 3.35160e+00]\n",
            " [8.40000e+02 3.50000e+01 3.73000e+01 1.14884e+01 7.79570e+00]\n",
            " [7.25000e+02 3.50000e+01 4.09000e+01 1.63600e+01 6.05320e+00]\n",
            " [6.80000e+02 3.50000e+01 4.06000e+01 1.54686e+01 6.13060e+00]\n",
            " [6.90000e+02 3.70000e+01 3.93000e+01 1.05717e+01 6.36660e+00]\n",
            " [8.00000e+01 1.90000e+01 2.02000e+01 5.63580e+00 3.05020e+00]\n",
            " [1.20000e+02 2.00000e+01 2.22000e+01 6.21600e+00 3.57420e+00]\n",
            " [1.60000e+03 6.00000e+01 6.40000e+01 9.60000e+00 6.14400e+00]\n",
            " [2.65000e+02 2.75000e+01 2.89000e+01 7.05160e+00 4.33500e+00]\n",
            " [1.22000e+01 1.22000e+01 1.34000e+01 2.09040e+00 1.39360e+00]\n",
            " [3.45000e+02 3.85000e+01 4.10000e+01 6.39600e+00 3.97700e+00]\n",
            " [1.60000e+02 2.25000e+01 2.50000e+01 6.40000e+00 3.80000e+00]\n",
            " [8.50000e+02 4.00000e+01 4.23000e+01 1.19286e+01 7.10640e+00]\n",
            " [5.50000e+01 1.47000e+01 1.65000e+01 6.84750e+00 2.32650e+00]\n",
            " [3.20000e+01 1.37000e+01 1.47000e+01 3.52800e+00 1.99920e+00]\n",
            " [9.75000e+02 4.10000e+01 4.59000e+01 1.86354e+01 6.74730e+00]\n",
            " [3.20000e+02 3.00000e+01 3.16000e+01 7.61560e+00 4.77160e+00]\n",
            " [9.70000e+00 1.10000e+01 1.20000e+01 2.19600e+00 1.38000e+00]\n",
            " [1.10000e+03 4.20000e+01 4.46000e+01 1.28002e+01 6.86840e+00]\n",
            " [6.00000e+01 1.55000e+01 1.74000e+01 6.57720e+00 2.31420e+00]\n",
            " [1.97000e+01 1.43000e+01 1.52000e+01 2.87280e+00 2.06720e+00]\n",
            " [1.45000e+02 2.40000e+01 2.55000e+01 6.37500e+00 3.82500e+00]\n",
            " [1.97000e+02 2.56000e+01 2.70000e+01 6.56100e+00 4.23900e+00]\n",
            " [2.72000e+02 2.70000e+01 3.06000e+01 8.56800e+00 4.77360e+00]\n",
            " [4.50000e+02 2.97000e+01 3.47000e+01 1.36024e+01 4.92740e+00]\n",
            " [7.00000e+02 3.70000e+01 3.94000e+01 1.08350e+01 6.26460e+00]\n",
            " [8.20000e+02 4.00000e+01 4.25000e+01 1.11350e+01 6.63000e+00]\n",
            " [1.61000e+02 2.34000e+01 2.67000e+01 6.91530e+00 3.63120e+00]\n",
            " [4.00000e+01 1.41000e+01 1.62000e+01 4.14720e+00 2.26800e+00]\n",
            " [8.50000e+01 1.96000e+01 2.08000e+01 5.13760e+00 3.03680e+00]\n",
            " [1.00000e+02 1.80000e+01 1.92000e+01 5.22240e+00 3.32160e+00]\n",
            " [9.50000e+02 4.10000e+01 4.65000e+01 1.76235e+01 6.37050e+00]\n",
            " [1.40000e+02 2.25000e+01 2.50000e+01 6.55000e+00 3.32500e+00]\n",
            " [3.90000e+02 3.00000e+01 3.50000e+01 1.26700e+01 4.69000e+00]\n",
            " [1.50000e+02 2.20000e+01 2.47000e+01 5.80450e+00 3.75440e+00]\n",
            " [2.73000e+02 2.50000e+01 2.80000e+01 1.10880e+01 4.14400e+00]\n",
            " [9.00000e+02 4.00000e+01 4.25000e+01 1.17300e+01 7.22500e+00]\n",
            " [5.56000e+02 3.45000e+01 3.65000e+01 1.02565e+01 6.38750e+00]\n",
            " [1.30000e+02 2.25000e+01 2.40000e+01 5.85600e+00 3.62400e+00]\n",
            " [1.15000e+02 2.10000e+01 2.25000e+01 5.91750e+00 3.30750e+00]\n",
            " [1.55000e+03 6.00000e+01 6.40000e+01 9.60000e+00 6.14400e+00]\n",
            " [1.65000e+03 6.34000e+01 6.80000e+01 1.08120e+01 7.48000e+00]\n",
            " [1.35000e+02 2.20000e+01 2.35000e+01 5.87500e+00 3.52500e+00]\n",
            " [4.50000e+02 3.00000e+01 3.51000e+01 1.40049e+01 4.84380e+00]\n",
            " [7.00000e+02 3.60000e+01 3.83000e+01 1.06091e+01 6.74080e+00]\n",
            " [3.40000e+02 3.20000e+01 3.73000e+01 1.39129e+01 5.07280e+00]\n",
            " [8.00000e+02 3.64000e+01 3.96000e+01 1.17612e+01 6.57360e+00]\n",
            " [5.40000e+02 4.30000e+01 4.58000e+01 7.78600e+00 5.12960e+00]\n",
            " [3.63000e+02 2.90000e+01 3.35000e+01 1.27300e+01 4.45550e+00]\n",
            " [7.00000e+02 3.30000e+01 3.85000e+01 1.49380e+01 5.19750e+00]\n",
            " [8.70000e+01 1.98000e+01 2.22000e+01 5.61660e+00 3.17460e+00]\n",
            " [5.90000e+00 8.40000e+00 8.80000e+00 2.11200e+00 1.40800e+00]\n",
            " [7.70000e+02 4.80000e+01 5.12000e+01 7.68000e+00 5.37600e+00]\n",
            " [5.00000e+02 2.97000e+01 3.45000e+01 1.41795e+01 5.27850e+00]\n",
            " [4.30000e+02 3.80000e+01 4.05000e+01 7.29000e+00 4.57650e+00]\n",
            " [9.00000e+01 1.77000e+01 1.98000e+01 7.40520e+00 2.67300e+00]\n",
            " [3.90000e+02 3.17000e+01 3.50000e+01 9.48500e+00 5.35500e+00]\n",
            " [3.00000e+02 2.87000e+01 3.01000e+01 7.58520e+00 4.63540e+00]\n",
            " [2.00000e+02 2.35000e+01 2.68000e+01 7.39680e+00 4.12720e+00]\n",
            " [1.22000e+01 1.30000e+01 1.38000e+01 2.27700e+00 1.25580e+00]\n",
            " [5.40000e+02 3.10000e+01 3.40000e+01 1.07440e+01 6.56200e+00]\n",
            " [1.69000e+02 2.40000e+01 2.72000e+01 7.53440e+00 3.83520e+00]\n",
            " [1.30000e+02 2.20000e+01 2.35000e+01 6.11000e+00 3.52500e+00]\n",
            " [6.85000e+02 3.40000e+01 3.92000e+01 1.59936e+01 5.37040e+00]\n",
            " [3.06000e+02 2.80000e+01 3.08000e+01 8.77800e+00 4.68160e+00]\n",
            " [9.80000e+00 1.20000e+01 1.32000e+01 2.20440e+00 1.14840e+00]\n",
            " [3.00000e+02 3.40000e+01 3.78000e+01 5.70780e+00 4.15800e+00]\n",
            " [7.80000e+01 1.88000e+01 2.12000e+01 5.57560e+00 2.90440e+00]\n",
            " [9.80000e+00 1.12000e+01 1.24000e+01 2.08320e+00 1.27720e+00]\n",
            " [2.90000e+02 2.63000e+01 3.12000e+01 1.24800e+01 4.30560e+00]\n",
            " [2.90000e+02 2.60000e+01 2.92000e+01 8.87680e+00 4.49680e+00]\n",
            " [3.00000e+02 3.50000e+01 3.88000e+01 5.93640e+00 4.38440e+00]\n",
            " [2.60000e+02 2.75000e+01 2.89000e+01 7.16720e+00 4.33500e+00]\n",
            " [1.80000e+02 2.50000e+01 2.65000e+01 6.43950e+00 3.68350e+00]\n",
            " [9.00000e+02 3.90000e+01 4.14000e+01 1.11366e+01 7.49340e+00]\n",
            " [1.20000e+02 2.20000e+01 2.35000e+01 5.64000e+00 3.52500e+00]\n",
            " [4.00000e+01 1.50000e+01 1.60000e+01 3.82400e+00 2.43200e+00]\n",
            " [1.01500e+03 4.00000e+01 4.24000e+01 1.23808e+01 7.46240e+00]\n",
            " [1.99000e+01 1.50000e+01 1.62000e+01 2.93220e+00 1.87920e+00]\n",
            " [5.75000e+02 3.40000e+01 3.95000e+01 1.51285e+01 5.56950e+00]\n",
            " [3.00000e+02 2.60000e+01 2.90000e+01 1.13680e+01 4.23400e+00]\n",
            " [2.50000e+02 2.80000e+01 2.94000e+01 7.82040e+00 4.20420e+00]\n",
            " [6.00000e+02 3.20000e+01 3.72000e+01 1.49544e+01 5.17080e+00]\n",
            " [1.50000e+02 2.25000e+01 2.40000e+01 6.79200e+00 3.62400e+00]\n",
            " [3.00000e+02 2.73000e+01 2.87000e+01 8.32300e+00 5.13730e+00]]\n"
          ]
        }
      ]
    },
    {
      "cell_type": "code",
      "source": [
        "# 자료의 표준화\n",
        "from sklearn.preprocessing import StandardScaler\n",
        "ss = StandardScaler()\n",
        "ss.fit(train_input)\n",
        "train_scaled = ss.transform(train_input)\n",
        "test_scaled = ss.transform(test_input)\n",
        "print(test_scaled)"
      ],
      "metadata": {
        "id": "Le92J8Ie0WBd",
        "colab": {
          "base_uri": "https://localhost:8080/"
        },
        "outputId": "4a73c1ec-33b2-445a-a3d1-da6e5bc1c1a9"
      },
      "execution_count": 7,
      "outputs": [
        {
          "output_type": "stream",
          "name": "stdout",
          "text": [
            "[[-0.88741352 -0.91804565 -1.03098914 -0.90464451 -0.80762518]\n",
            " [-1.06924656 -1.50842035 -1.54345461 -1.58849582 -1.93803151]\n",
            " [-0.54401367  0.35641402  0.30663259 -0.8135697  -0.65388895]\n",
            " [-0.34698097 -0.23396068 -0.22320459 -0.11905019 -0.12233464]\n",
            " [-0.68475132 -0.51509149 -0.58801052 -0.8998784  -0.50124996]\n",
            " [ 1.70778862  0.79685229  0.98412932  2.49283113  1.31347159]\n",
            " [-1.08726098 -1.67709884 -1.70848587 -1.76175528 -2.01154694]\n",
            " [-0.60030873 -0.3089289  -0.29269143 -0.43855288 -0.33056738]\n",
            " [-0.57779071 -0.36515506 -0.44035097 -0.52577528 -0.17219833]\n",
            " [ 2.41147684  2.57734741  2.4694106   0.45038962  1.54627043]\n",
            " [ 0.72262512  0.46886634  0.64538096  1.38570915  0.7798447 ]\n",
            " [ 1.70778862  1.0779831   1.06230202  0.86222655  1.2659243 ]\n",
            " [ 0.58188748  0.32830094  0.51509312  1.62381742  0.6898706 ]\n",
            " [-0.68475132 -0.7962223  -0.77041348  0.0074865  -0.70436223]\n",
            " [ 0.86336276  0.60943175  0.80172635  1.82199404  0.69535682]\n",
            " [ 1.48260839  0.93741769  1.11441715  2.26561331  1.13260901]\n",
            " [ 1.70778862  1.40596904  1.2794484   0.92396381  2.25161618]\n",
            " [-0.49334812 -0.18710555 -0.28400558 -0.41845122 -0.18548719]\n",
            " [-0.47364485 -0.42138122 -0.50115196 -0.38758259 -0.44212064]\n",
            " [ 0.86336276  0.42201121  0.61063753  1.48117965  0.51028814]\n",
            " [-1.07881672 -1.56464651 -1.57819804 -1.64186151 -1.92900972]\n",
            " [ 0.610035    0.46886634  0.6366951   1.67197249  0.41787572]\n",
            " [ 0.30041219  0.2814458   0.44560628  1.20923936 -0.04894113]\n",
            " [ 0.30041219  0.20647759  0.42823457  1.32466334  0.31156486]\n",
            " [ 1.58112475  0.93741769  1.10573129  2.27724461  1.12389201]\n",
            " [ 1.98926391  1.35911391  1.23601913  0.90136798  1.80936543]\n",
            " [-0.62845626 -0.46823636 -0.54458124 -0.63897672 -0.44090148]\n",
            " [-0.34698097 -0.18710555 -0.17108946 -0.17708322 -0.12178601]\n",
            " [-1.0881054  -1.75206705 -1.77797271 -1.75918701 -2.07299266]\n",
            " [-1.0790982  -1.56464651 -1.57819804 -1.64186151 -2.00087927]\n",
            " [ 0.32855972  1.31225877  1.23601913 -0.50315475  0.00653071]\n",
            " [-0.90993155 -1.039869   -1.10916184 -1.05557977 -0.9185079 ]\n",
            " [-0.96200448 -1.15232133 -1.22207796 -1.0544932  -1.10741694]\n",
            " [ 0.48900063  1.64024472  1.5139665  -0.26435502  0.25706835]\n",
            " [-0.14994827 -0.18710555 -0.01474406  0.86810394  0.15106228]\n",
            " [-0.7691939  -0.60880176 -0.67486907 -0.67972332 -0.63444333]\n",
            " [-0.65660379 -0.56194663 -0.51852367 -0.45169057 -0.38280844]\n",
            " [-0.7691939  -0.70251203 -0.65749736 -0.67858735 -0.70344785]\n",
            " [-0.69882508 -0.6556569  -0.62275394  0.21581272 -0.78708232]\n",
            " [ 1.20113311  0.98427283  0.8712132   0.88131571  1.76968173]]\n"
          ]
        }
      ]
    },
    {
      "cell_type": "code",
      "source": [
        "from sklearn.neighbors import KNeighborsClassifier\n",
        "kn = KNeighborsClassifier(n_neighbors=3)\n",
        "kn.fit(train_scaled, train_target)\n",
        "print(kn.score(train_scaled, train_target))\n",
        "print(kn.score(test_scaled, test_target))"
      ],
      "metadata": {
        "colab": {
          "base_uri": "https://localhost:8080/"
        },
        "id": "LoYzXgw00oga",
        "outputId": "637a0574-5964-4aa0-db10-32f708e6bef2"
      },
      "execution_count": 8,
      "outputs": [
        {
          "output_type": "stream",
          "name": "stdout",
          "text": [
            "0.8907563025210085\n",
            "0.85\n"
          ]
        }
      ]
    },
    {
      "cell_type": "code",
      "source": [
        "# kn에 학습된 타깃값은 내림차순으로 정렬\n",
        "print(kn.classes_)"
      ],
      "metadata": {
        "colab": {
          "base_uri": "https://localhost:8080/"
        },
        "id": "Cz03y2gq1HFV",
        "outputId": "cd1ca4c8-1352-4a4e-ece8-aa96d5e265c5"
      },
      "execution_count": 9,
      "outputs": [
        {
          "output_type": "stream",
          "name": "stdout",
          "text": [
            "['Bream' 'Parkki' 'Perch' 'Pike' 'Roach' 'Smelt' 'Whitefish']\n"
          ]
        }
      ]
    },
    {
      "cell_type": "code",
      "source": [
        "print(kn.predict(test_scaled[:5]))"
      ],
      "metadata": {
        "colab": {
          "base_uri": "https://localhost:8080/"
        },
        "id": "RFKwGLxb1_ts",
        "outputId": "439a5540-66d6-456d-e709-767d4d8c6a57"
      },
      "execution_count": 10,
      "outputs": [
        {
          "output_type": "stream",
          "name": "stdout",
          "text": [
            "['Perch' 'Smelt' 'Pike' 'Perch' 'Perch']\n"
          ]
        }
      ]
    },
    {
      "cell_type": "code",
      "source": [
        "# predict_proba() 메서드 : 각 범주에 대한 확률 (순서는 내림차순/ classes_속성과 같음)\n",
        "import numpy as np\n",
        "proba = kn.predict_proba(test_scaled[:5])\n",
        "print(np.round(proba, decimals=4)) #소숫점 4째자리까지 표시"
      ],
      "metadata": {
        "colab": {
          "base_uri": "https://localhost:8080/"
        },
        "id": "aEdg0KKp2Ekq",
        "outputId": "9067e130-24d3-4a4e-e2ae-3ec28cac7acc"
      },
      "execution_count": 11,
      "outputs": [
        {
          "output_type": "stream",
          "name": "stdout",
          "text": [
            "[[0.     0.     1.     0.     0.     0.     0.    ]\n",
            " [0.     0.     0.     0.     0.     1.     0.    ]\n",
            " [0.     0.     0.     1.     0.     0.     0.    ]\n",
            " [0.     0.     0.6667 0.     0.3333 0.     0.    ]\n",
            " [0.     0.     0.6667 0.     0.3333 0.     0.    ]]\n"
          ]
        }
      ]
    },
    {
      "cell_type": "code",
      "source": [
        "distances, indexes = kn.kneighbors(test_scaled[3:4])\n",
        "print(train_target[indexes])"
      ],
      "metadata": {
        "colab": {
          "base_uri": "https://localhost:8080/"
        },
        "id": "77_DzNdC3Z2F",
        "outputId": "e309750a-7ee2-4085-a0da-d01d8456feba"
      },
      "execution_count": 12,
      "outputs": [
        {
          "output_type": "stream",
          "name": "stdout",
          "text": [
            "[['Roach' 'Perch' 'Perch']]\n"
          ]
        }
      ]
    },
    {
      "cell_type": "markdown",
      "source": [
        "#로지스틱 회기"
      ],
      "metadata": {
        "id": "8jIo2jsiscpW"
      }
    },
    {
      "cell_type": "code",
      "source": [
        "# matplotlib을 이용해서 시그모이드 그래프 그리기\n",
        "import matplotlib.pyplot as plt\n",
        "z = np.arange(-5, 5, 0.1)\n",
        "phi = 1/ (1+ np.exp(-z))\n",
        "plt.plot(z, phi)\n",
        "plt.xlabel(\"z\")\n",
        "plt.ylabel(\"phi\")\n",
        "plt.show()"
      ],
      "metadata": {
        "colab": {
          "base_uri": "https://localhost:8080/",
          "height": 279
        },
        "id": "c1hN00PO6tiC",
        "outputId": "42850f26-2afd-43ba-8256-3b6f5587ea79"
      },
      "execution_count": 13,
      "outputs": [
        {
          "output_type": "display_data",
          "data": {
            "text/plain": [
              "<Figure size 432x288 with 1 Axes>"
            ],
            "image/png": "[encoded data removed]"
          },
          "metadata": {
            "needs_background": "light"
          }
        }
      ]
    },
    {
      "cell_type": "code",
      "source": [
        "# 불리언 인덱싱 : True 원소만 골라내기\n",
        "char_arr = np.array([\"A\",\"B\",\"C\",\"D\",\"E\"])\n",
        "print(char_arr[[True, False, True, False, False]])"
      ],
      "metadata": {
        "colab": {
          "base_uri": "https://localhost:8080/"
        },
        "id": "gEpxUoP_8zQB",
        "outputId": "117eca47-5ada-4cab-e64e-33e13f38bf2a"
      },
      "execution_count": 14,
      "outputs": [
        {
          "output_type": "stream",
          "name": "stdout",
          "text": [
            "['A' 'C']\n"
          ]
        }
      ]
    },
    {
      "cell_type": "code",
      "source": [
        "print(train_target)"
      ],
      "metadata": {
        "colab": {
          "base_uri": "https://localhost:8080/"
        },
        "id": "aOdfeUrmr-Fl",
        "outputId": "1bcad378-a928-40de-de6a-88c80ac0e959"
      },
      "execution_count": 15,
      "outputs": [
        {
          "output_type": "stream",
          "name": "stdout",
          "text": [
            "['Bream' 'Pike' 'Smelt' 'Perch' 'Parkki' 'Roach' 'Perch' 'Bream' 'Perch'\n",
            " 'Perch' 'Perch' 'Bream' 'Perch' 'Parkki' 'Perch' 'Bream' 'Smelt' 'Perch'\n",
            " 'Roach' 'Bream' 'Pike' 'Bream' 'Pike' 'Perch' 'Parkki' 'Bream' 'Perch'\n",
            " 'Pike' 'Bream' 'Perch' 'Parkki' 'Roach' 'Perch' 'Bream' 'Roach' 'Perch'\n",
            " 'Bream' 'Bream' 'Perch' 'Perch' 'Roach' 'Pike' 'Perch' 'Smelt' 'Pike'\n",
            " 'Roach' 'Perch' 'Parkki' 'Perch' 'Bream' 'Perch' 'Smelt' 'Perch' 'Parkki'\n",
            " 'Smelt' 'Perch' 'Perch' 'Roach' 'Bream' 'Perch' 'Perch' 'Roach' 'Roach'\n",
            " 'Perch' 'Perch' 'Bream' 'Roach' 'Bream' 'Roach' 'Parkki' 'Perch' 'Perch'\n",
            " 'Perch' 'Perch' 'Pike' 'Pike' 'Perch' 'Bream' 'Perch' 'Bream' 'Whitefish'\n",
            " 'Pike' 'Bream' 'Bream' 'Roach' 'Perch' 'Pike' 'Bream' 'Pike' 'Parkki'\n",
            " 'Roach' 'Perch' 'Roach' 'Smelt' 'Whitefish' 'Roach' 'Perch' 'Bream'\n",
            " 'Whitefish' 'Smelt' 'Pike' 'Roach' 'Smelt' 'Bream' 'Roach' 'Pike' 'Perch'\n",
            " 'Perch' 'Perch' 'Perch' 'Perch' 'Perch' 'Smelt' 'Bream' 'Parkki' 'Perch'\n",
            " 'Bream' 'Perch' 'Perch']\n"
          ]
        }
      ]
    },
    {
      "cell_type": "code",
      "source": [
        "# 타깃값이 Bream이랑 Smelt인 경우만 True\n",
        "bream_smelt_indexes = (train_target == \"Bream\")| (train_target == \"Smelt\") #True인 행을 골라주는 작업 : array == 밸류\n",
        "train_bream_smelt = train_scaled[bream_smelt_indexes]\n",
        "target_bream_smelt = train_target[bream_smelt_indexes]"
      ],
      "metadata": {
        "id": "GG1qGaLt-Ht7"
      },
      "execution_count": 16,
      "outputs": []
    },
    {
      "cell_type": "code",
      "source": [
        "target_bream_smelt"
      ],
      "metadata": {
        "colab": {
          "base_uri": "https://localhost:8080/"
        },
        "id": "K1izOThv-vdA",
        "outputId": "d3068df7-1bcd-4bd3-a45a-8a591503df35"
      },
      "execution_count": 17,
      "outputs": [
        {
          "output_type": "execute_result",
          "data": {
            "text/plain": [
              "array(['Bream', 'Smelt', 'Bream', 'Bream', 'Bream', 'Smelt', 'Bream',\n",
              "       'Bream', 'Bream', 'Bream', 'Bream', 'Bream', 'Bream', 'Smelt',\n",
              "       'Bream', 'Smelt', 'Smelt', 'Bream', 'Bream', 'Bream', 'Bream',\n",
              "       'Bream', 'Bream', 'Bream', 'Bream', 'Smelt', 'Bream', 'Smelt',\n",
              "       'Smelt', 'Bream', 'Smelt', 'Bream', 'Bream'], dtype=object)"
            ]
          },
          "metadata": {},
          "execution_count": 17
        }
      ]
    },
    {
      "cell_type": "code",
      "source": [
        "# 로지스틱 회기 모델 학습\n",
        "from sklearn.linear_model import LogisticRegression #로지스틱 모델은 선형 모델임 -> linear_model\n",
        "lr = LogisticRegression()\n",
        "lr.fit(train_bream_smelt, target_bream_smelt)"
      ],
      "metadata": {
        "colab": {
          "base_uri": "https://localhost:8080/"
        },
        "id": "6DIklN-D-2ig",
        "outputId": "b39e33dd-a7da-4e48-f8af-5205e8efceef"
      },
      "execution_count": 18,
      "outputs": [
        {
          "output_type": "execute_result",
          "data": {
            "text/plain": [
              "LogisticRegression()"
            ]
          },
          "metadata": {},
          "execution_count": 18
        }
      ]
    },
    {
      "cell_type": "code",
      "source": [
        "# 학습한 모델로 train_bream_smelt의 샘플 예측\n",
        "print(lr.predict(train_bream_smelt[:5]))\n",
        "print(lr.predict_proba(train_bream_smelt[:5])) #[[음성클래스에 대한 확률, 양성클래스에 대한 확률]]"
      ],
      "metadata": {
        "colab": {
          "base_uri": "https://localhost:8080/"
        },
        "id": "9lYFkNaj_Qla",
        "outputId": "d5d11fa4-5998-4203-ac1b-4025c57d06a9"
      },
      "execution_count": 19,
      "outputs": [
        {
          "output_type": "stream",
          "name": "stdout",
          "text": [
            "['Bream' 'Smelt' 'Bream' 'Bream' 'Bream']\n",
            "[[0.99759855 0.00240145]\n",
            " [0.02735183 0.97264817]\n",
            " [0.99486072 0.00513928]\n",
            " [0.98584202 0.01415798]\n",
            " [0.99767269 0.00232731]]\n"
          ]
        }
      ]
    },
    {
      "cell_type": "code",
      "source": [
        "# 어떤 것이 양성 클래스인지 알아보기\n",
        "print(lr.classes_)\n",
        "# 뒤에 오는게 양성"
      ],
      "metadata": {
        "colab": {
          "base_uri": "https://localhost:8080/"
        },
        "id": "nk1yATkv_6dF",
        "outputId": "ac3f394e-696f-4ac1-8f96-df119fa48b3f"
      },
      "execution_count": 20,
      "outputs": [
        {
          "output_type": "stream",
          "name": "stdout",
          "text": [
            "['Bream' 'Smelt']\n"
          ]
        }
      ]
    },
    {
      "cell_type": "code",
      "source": [
        "# 모델 파라미터 구하기\n",
        "print(lr.coef_, lr.intercept_)"
      ],
      "metadata": {
        "colab": {
          "base_uri": "https://localhost:8080/"
        },
        "id": "JdrOlZe2ACYD",
        "outputId": "13b34f5f-c0c9-4552-9614-a163669674d2"
      },
      "execution_count": 21,
      "outputs": [
        {
          "output_type": "stream",
          "name": "stdout",
          "text": [
            "[[-0.4037798  -0.57620209 -0.66280298 -1.01290277 -0.73168947]] [-2.16155132]\n"
          ]
        }
      ]
    },
    {
      "cell_type": "code",
      "source": [
        "# decision_function() 메서드 : 로지스틱 회귀 모델의 z값을 구해줌\n",
        "decisions = lr.decision_function(train_bream_smelt[:5])\n",
        "print(decisions)"
      ],
      "metadata": {
        "colab": {
          "base_uri": "https://localhost:8080/"
        },
        "id": "zxY81e4oAGXD",
        "outputId": "0757c233-2340-40fe-8dad-9bd2d0efef31"
      },
      "execution_count": 22,
      "outputs": [
        {
          "output_type": "stream",
          "name": "stdout",
          "text": [
            "[-6.02927744  3.57123907 -5.26568906 -4.24321775 -6.0607117 ]\n"
          ]
        }
      ]
    },
    {
      "cell_type": "code",
      "source": [
        "# scipy 라이브러리의 시그모이드 함수를 구해주는 expit()함수\n",
        "from scipy.special import expit\n",
        "print(expit(decisions))"
      ],
      "metadata": {
        "colab": {
          "base_uri": "https://localhost:8080/"
        },
        "id": "ezaxrYeSB1uo",
        "outputId": "97866554-bf7e-4b7d-9234-06bf41fb8f5d"
      },
      "execution_count": 23,
      "outputs": [
        {
          "output_type": "stream",
          "name": "stdout",
          "text": [
            "[0.00240145 0.97264817 0.00513928 0.01415798 0.00232731]\n"
          ]
        }
      ]
    },
    {
      "cell_type": "code",
      "source": [
        "# C 매개면수 : 로지스틱회귀에서 규제를 제어함 alpha와 반대로 값이 작을수록 규제가 커짐\n",
        "# max_iter 매개변수 : 모델 훈련의 반복횟수\n",
        "lr = LogisticRegression(C=20, max_iter=1000)\n",
        "lr.fit(train_scaled, train_target)\n",
        "print(lr.score(train_scaled, train_target))\n",
        "print(lr.score(test_scaled, test_target))"
      ],
      "metadata": {
        "colab": {
          "base_uri": "https://localhost:8080/"
        },
        "id": "p8jNzJJ4Ct5T",
        "outputId": "b3eabc2d-b926-462d-81fb-267812e851ea"
      },
      "execution_count": 24,
      "outputs": [
        {
          "output_type": "stream",
          "name": "stdout",
          "text": [
            "0.9327731092436975\n",
            "0.925\n"
          ]
        }
      ]
    },
    {
      "cell_type": "code",
      "source": [
        "print(lr.predict(test_scaled[:5]))"
      ],
      "metadata": {
        "colab": {
          "base_uri": "https://localhost:8080/"
        },
        "id": "DsjuVDeTDSSY",
        "outputId": "d1cf448e-d79b-41b3-dc1f-48b7de035c21"
      },
      "execution_count": 25,
      "outputs": [
        {
          "output_type": "stream",
          "name": "stdout",
          "text": [
            "['Perch' 'Smelt' 'Pike' 'Roach' 'Perch']\n"
          ]
        }
      ]
    },
    {
      "cell_type": "code",
      "source": [
        "proba = lr.predict_proba(test_scaled[:5])\n",
        "print(np.round(proba, decimals=3))"
      ],
      "metadata": {
        "colab": {
          "base_uri": "https://localhost:8080/"
        },
        "id": "la8XZiOuDbtV",
        "outputId": "3f93606a-f723-4e14-e8a1-82c9da79e159"
      },
      "execution_count": 26,
      "outputs": [
        {
          "output_type": "stream",
          "name": "stdout",
          "text": [
            "[[0.    0.014 0.841 0.    0.136 0.007 0.003]\n",
            " [0.    0.003 0.044 0.    0.007 0.946 0.   ]\n",
            " [0.    0.    0.034 0.935 0.015 0.016 0.   ]\n",
            " [0.011 0.034 0.306 0.007 0.567 0.    0.076]\n",
            " [0.    0.    0.904 0.002 0.089 0.002 0.001]]\n"
          ]
        }
      ]
    },
    {
      "cell_type": "code",
      "source": [
        "print(kn.classes_)"
      ],
      "metadata": {
        "colab": {
          "base_uri": "https://localhost:8080/"
        },
        "id": "TO4OBSzoDnXC",
        "outputId": "9a99d3ad-e8c4-4629-f19b-31188c000bb2"
      },
      "execution_count": 27,
      "outputs": [
        {
          "output_type": "stream",
          "name": "stdout",
          "text": [
            "['Bream' 'Parkki' 'Perch' 'Pike' 'Roach' 'Smelt' 'Whitefish']\n"
          ]
        }
      ]
    },
    {
      "cell_type": "code",
      "source": [
        "print(lr.coef_.shape, lr.intercept_.shape)\n",
        "# 다중분류는 클래스마다 z값을 하나씩 구함 : 클래스 7개\n",
        "# 특성개수 5개"
      ],
      "metadata": {
        "colab": {
          "base_uri": "https://localhost:8080/"
        },
        "id": "Tm1hVmgED12G",
        "outputId": "23b5458b-6c59-4f3b-9a6c-86e9b8e8c8ae"
      },
      "execution_count": 28,
      "outputs": [
        {
          "output_type": "stream",
          "name": "stdout",
          "text": [
            "(7, 5) (7,)\n"
          ]
        }
      ]
    },
    {
      "cell_type": "code",
      "source": [
        "decision = lr.decision_function(test_scaled[:5]) #클래스별 z값 구하기\n",
        "print(np.round(decision, decimals=2))"
      ],
      "metadata": {
        "colab": {
          "base_uri": "https://localhost:8080/"
        },
        "id": "v9oC1l3QEVHk",
        "outputId": "fe638efa-ea23-4340-cccc-39bf0bc6d96b"
      },
      "execution_count": 29,
      "outputs": [
        {
          "output_type": "stream",
          "name": "stdout",
          "text": [
            "[[ -6.5    1.03   5.16  -2.73   3.34   0.33  -0.63]\n",
            " [-10.86   1.93   4.77  -2.4    2.98   7.84  -4.26]\n",
            " [ -4.34  -6.23   3.17   6.49   2.36   2.42  -3.87]\n",
            " [ -0.68   0.45   2.65  -1.19   3.26  -5.75   1.26]\n",
            " [ -6.4   -1.99   5.82  -0.11   3.5   -0.11  -0.71]]\n"
          ]
        }
      ]
    },
    {
      "cell_type": "code",
      "source": [
        "# softmax() 함수 :  다중분류에서 클래스별 z값을 확률로 변환\n",
        "from scipy.special import softmax\n",
        "proba = softmax(decision, axis = 1)\n",
        "print(np.round(proba, decimals=3))"
      ],
      "metadata": {
        "colab": {
          "base_uri": "https://localhost:8080/"
        },
        "id": "EVQQ880BIe60",
        "outputId": "0fb702ed-e620-4087-aa68-7ec4611c0779"
      },
      "execution_count": 30,
      "outputs": [
        {
          "output_type": "stream",
          "name": "stdout",
          "text": [
            "[[0.    0.014 0.841 0.    0.136 0.007 0.003]\n",
            " [0.    0.003 0.044 0.    0.007 0.946 0.   ]\n",
            " [0.    0.    0.034 0.935 0.015 0.016 0.   ]\n",
            " [0.011 0.034 0.306 0.007 0.567 0.    0.076]\n",
            " [0.    0.    0.904 0.002 0.089 0.002 0.001]]\n"
          ]
        }
      ]
    },
    {
      "cell_type": "code",
      "source": [
        "print(kn.classes_)"
      ],
      "metadata": {
        "colab": {
          "base_uri": "https://localhost:8080/"
        },
        "id": "gEZ1oJChIukC",
        "outputId": "f47c65c3-a57b-4bfa-c500-f241dbdbc6b4"
      },
      "execution_count": 31,
      "outputs": [
        {
          "output_type": "stream",
          "name": "stdout",
          "text": [
            "['Bream' 'Parkki' 'Perch' 'Pike' 'Roach' 'Smelt' 'Whitefish']\n"
          ]
        }
      ]
    }
  ]
}
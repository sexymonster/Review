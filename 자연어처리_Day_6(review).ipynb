{
  "nbformat": 4,
  "nbformat_minor": 0,
  "metadata": {
    "colab": {
      "name": "자연어처리_Day-6.ipynb",
      "provenance": [],
      "collapsed_sections": [],
      "authorship_tag": "ABX9TyPgdqN7tM8SX6ROaMNfeAYj"
    },
    "kernelspec": {
      "name": "python3",
      "display_name": "Python 3"
    },
    "language_info": {
      "name": "python"
    }
  },
  "cells": [
    {
      "cell_type": "code",
      "execution_count": 5,
      "metadata": {
        "id": "-v-epkIKg1Uk"
      },
      "outputs": [],
      "source": [
        "import numpy as np\n",
        "import matplotlib.pyplot as plt\n",
        "from tensorflow.keras.models import Sequential\n",
        "from tensorflow.keras.layers import Dense\n",
        "from tensorflow.keras import optimizers"
      ]
    },
    {
      "cell_type": "code",
      "source": [
        "x = [[],[],[],[]]\n",
        "y = [[],[],[],[]]\n",
        "model = Sequential()\n",
        "model.add(Dense(2, input_dim=3, activation = \"softmax\")) # 2 : output 노드 수/ input_dim = 입력노드 수\n",
        "model.summary() # 파라미터 갯수 = input_nodes * output_nodes + output_nodes(bias)"
      ],
      "metadata": {
        "colab": {
          "base_uri": "https://localhost:8080/"
        },
        "id": "8_3fhNJghPUr",
        "outputId": "2eeb76e5-680f-4667-fad7-6487b19c92dc"
      },
      "execution_count": 6,
      "outputs": [
        {
          "output_type": "stream",
          "name": "stdout",
          "text": [
            "Model: \"sequential_2\"\n",
            "_________________________________________________________________\n",
            " Layer (type)                Output Shape              Param #   \n",
            "=================================================================\n",
            " dense_4 (Dense)             (None, 2)                 8         \n",
            "                                                                 \n",
            "=================================================================\n",
            "Total params: 8\n",
            "Trainable params: 8\n",
            "Non-trainable params: 0\n",
            "_________________________________________________________________\n"
          ]
        }
      ]
    },
    {
      "cell_type": "code",
      "source": [
        "x = [[],[],[],[]]\n",
        "y = [[],[],[],[]]\n",
        "model = Sequential()\n",
        "model.add(Dense(8, input_dim=4, activation = \"relu\")) \n",
        "model.add(Dense(8, input_dim=8, activation = \"relu\")) \n",
        "model.add(Dense(3, activation = \"softmax\")) # 앞의 아웃풋이 인풋이기 때문에 input_dim을 입력하지 않아도 됨\n",
        "model.summary()"
      ],
      "metadata": {
        "colab": {
          "base_uri": "https://localhost:8080/"
        },
        "id": "xD3gb1diiGiq",
        "outputId": "d4cd1bd3-0dc7-41ca-c981-e4e1eb1057ae"
      },
      "execution_count": 7,
      "outputs": [
        {
          "output_type": "stream",
          "name": "stdout",
          "text": [
            "Model: \"sequential_3\"\n",
            "_________________________________________________________________\n",
            " Layer (type)                Output Shape              Param #   \n",
            "=================================================================\n",
            " dense_5 (Dense)             (None, 8)                 40        \n",
            "                                                                 \n",
            " dense_6 (Dense)             (None, 8)                 72        \n",
            "                                                                 \n",
            " dense_7 (Dense)             (None, 3)                 27        \n",
            "                                                                 \n",
            "=================================================================\n",
            "Total params: 139\n",
            "Trainable params: 139\n",
            "Non-trainable params: 0\n",
            "_________________________________________________________________\n"
          ]
        }
      ]
    },
    {
      "cell_type": "markdown",
      "source": [
        "#손실함수(Loss function)"
      ],
      "metadata": {
        "id": "pP65SegSmd8M"
      }
    },
    {
      "cell_type": "markdown",
      "source": [
        "##MSE(Mean Squared Error)"
      ],
      "metadata": {
        "id": "VGNxpL_Rmldl"
      }
    },
    {
      "cell_type": "code",
      "source": [
        "# model.compile(optimizer = \"adam\", loss =\"mse\", metrics=[\"mse\"])\n",
        "# model.compile(optimizer = \"adam\", loss =tf.keras.losses.MeanSquaredError(), metrics=[\"mse\"])"
      ],
      "metadata": {
        "id": "JyI_Mw56lKqc"
      },
      "execution_count": 8,
      "outputs": []
    },
    {
      "cell_type": "markdown",
      "source": [
        "##Binary Cross-Entropy"
      ],
      "metadata": {
        "id": "UbYSKSWgm64y"
      }
    },
    {
      "cell_type": "code",
      "source": [
        "# model.compile(optimizer = \"adam\", loss =\"binary_crossentropy\", metrics=[\"acc\"])\n",
        "# model.compile(optimizer = \"adam\", loss =tf.keras.losses.BinaryCrossentropy(), metrics=[\"acc\"])"
      ],
      "metadata": {
        "id": "dPvMOEKRm5on"
      },
      "execution_count": null,
      "outputs": []
    },
    {
      "cell_type": "markdown",
      "source": [
        "##Categorical Cross-Entropy"
      ],
      "metadata": {
        "id": "8rxBIgHIt9kQ"
      }
    },
    {
      "cell_type": "code",
      "source": [
        "# model.compile(optimizer = \"adam\", loss =\"categorical_crossentropy\", metrics=[\"acc\"])\n",
        "# model.compile(optimizer = \"adam\", loss =tf.keras.losses.CategoricalCrossentropy(), metrics=[\"acc\"])"
      ],
      "metadata": {
        "id": "PwGNJPXfuCOM"
      },
      "execution_count": null,
      "outputs": []
    },
    {
      "cell_type": "markdown",
      "source": [
        "원핫인코딩 과정을 생략하고, 정수값을 가진 레이블에 대해서 다중 클래스 분류를 수행할 경우"
      ],
      "metadata": {
        "id": "jJvrsSpSCGGI"
      }
    },
    {
      "cell_type": "code",
      "source": [
        "# model.compile(optimizer = \"adam\", loss =\"sparse_categorical_crossentropy\", metrics=[\"acc\"])\n",
        "# model.compile(optimizer = \"adam\", loss =tf.keras.losses.SparseCategoricalCrossentropy(), metrics=[\"acc\"])"
      ],
      "metadata": {
        "id": "-iHUghLwB02i"
      },
      "execution_count": null,
      "outputs": []
    },
    {
      "cell_type": "markdown",
      "source": [
        "# 경사 하강법"
      ],
      "metadata": {
        "id": "uk8VPv-Im-sa"
      }
    },
    {
      "cell_type": "markdown",
      "source": [
        "##Batch Size에 따른 경사 하강법(Batch Gradient Descent)"
      ],
      "metadata": {
        "id": "0KucoEGfnJQc"
      }
    },
    {
      "cell_type": "code",
      "source": [
        "# model.fit(X_train, y_train, batch_size=len(X_train))"
      ],
      "metadata": {
        "id": "jV0Gg6D0nVYR"
      },
      "execution_count": null,
      "outputs": []
    },
    {
      "cell_type": "markdown",
      "source": [
        "##확률적 경사 하강법(Stochastic Gradient Descent,SGD)"
      ],
      "metadata": {
        "id": "UbzagUVvnh-i"
      }
    },
    {
      "cell_type": "code",
      "source": [
        "# model.fit(X_train, y_train, batch_size=1)"
      ],
      "metadata": {
        "id": "-KTDHuCenhJF"
      },
      "execution_count": null,
      "outputs": []
    },
    {
      "cell_type": "markdown",
      "source": [
        "##미니 배치 경사 하강법(Mini-Batch Gradient Descent)"
      ],
      "metadata": {
        "id": "S9nssZIFnzCf"
      }
    },
    {
      "cell_type": "code",
      "source": [
        "# model.fit(X_train, y_train, batch_size=128) 2의 제곱\n",
        "# batch_size 지정하지 않을 때 기본값: 32"
      ],
      "metadata": {
        "id": "jZvkcF1-n680"
      },
      "execution_count": null,
      "outputs": []
    },
    {
      "cell_type": "markdown",
      "source": [
        "#옵티마이저"
      ],
      "metadata": {
        "id": "HYPteWN0oUCl"
      }
    },
    {
      "cell_type": "markdown",
      "source": [
        "Momentum"
      ],
      "metadata": {
        "id": "4pmABF0Ropwa"
      }
    },
    {
      "cell_type": "code",
      "source": [
        "# tk.keras.optimizers.SGD(lr=0.01, momentum=0.9)"
      ],
      "metadata": {
        "id": "3b6BkzAmoIAm"
      },
      "execution_count": null,
      "outputs": []
    },
    {
      "cell_type": "markdown",
      "source": [
        "Adagrad"
      ],
      "metadata": {
        "id": "NPXxcPlzo0-Q"
      }
    },
    {
      "cell_type": "code",
      "source": [
        "# tk.keras.optimizers.Adagrad(lr=0.01, epsilon=1e-6)"
      ],
      "metadata": {
        "id": "k9B4JB6fo0L6"
      },
      "execution_count": null,
      "outputs": []
    },
    {
      "cell_type": "markdown",
      "source": [
        "RMSprop"
      ],
      "metadata": {
        "id": "sGbc9W86pBwO"
      }
    },
    {
      "cell_type": "code",
      "source": [
        "# tk.keras.optimizers.RMSprop(lr=0.01, rho=0.9, epsilon=1e-6)"
      ],
      "metadata": {
        "id": "G82HgcOvpA32"
      },
      "execution_count": null,
      "outputs": []
    },
    {
      "cell_type": "markdown",
      "source": [
        "Adam"
      ],
      "metadata": {
        "id": "emgW2g7DpVZl"
      }
    },
    {
      "cell_type": "code",
      "source": [
        "# tf.keras.optimizers.Adam(lr=0.001, beta_1 = 0.9, beta_2=0.999, epsilon=None, decay=0.0,amsgrad=False)\n",
        "# adam = tf.keras.optimizers.Adam(lr=0.001, beta_1 = 0.9, beta_2=0.999, epsilon=None, decay=0.0,amsgrad=False)\n",
        "# model.compile(loss=\"categorical_crossentropy\", optimizer=adam,metrics=[\"acc\"])"
      ],
      "metadata": {
        "id": "iW1tqD1RpUB9"
      },
      "execution_count": null,
      "outputs": []
    },
    {
      "cell_type": "markdown",
      "source": [
        "#신경망 코드 이해하기"
      ],
      "metadata": {
        "id": "G8rtLo0Cx1f2"
      }
    },
    {
      "cell_type": "code",
      "source": [
        "from tensorflow.keras.models import Sequential\n",
        "from tensorflow.keras.layers import Dropout, Dense\n",
        "max_words = 10000\n",
        "num_classes = 46\n",
        "model = Sequential()\n",
        "model.add(Dense(256, input_shape = (max_words,), activation = \"relu\"))\n",
        "model.add(Dropout(0.5)) # 드랍아웃 추가. 비율은 50%\n",
        "model.add(Dense(128, activation = \"relu\"))\n",
        "model.add(Dropout(0.5)) # 드랍아웃 추가. 비율은 50%\n",
        "model.add(Dense(num_classes, activation = \"softmax\"))"
      ],
      "metadata": {
        "id": "pn_ximYdx4Q4"
      },
      "execution_count": 3,
      "outputs": []
    },
    {
      "cell_type": "code",
      "source": [
        "from tensorflow.keras.preprocessing.text import Tokenizer\n",
        "from tensorflow.keras.preprocessing.sequence import pad_sequences\n",
        "tokenizer = Tokenizer()\n",
        "train_text = \"The earth is an awesome place live\"\n",
        "\n",
        "# 단어 집합 생성\n",
        "tokenizer.fit_on_texts([train_text])\n",
        "\n",
        "# 레이블 인코딩\n",
        "sub_text = \"The earth is an great place live\"\n",
        "sequences = tokenizer.texts_to_sequences([sub_text])[0]\n",
        "print(\"레이블 인코딩 :\", sequences)\n",
        "print(\"단어 집합 :\", tokenizer.word_index)\n",
        "\n",
        "pad_sequences([[1,2,3],[3,4,5,6],[7,8]], maxlen=3, padding=\"pre\")"
      ],
      "metadata": {
        "id": "i41s-tpky5rz",
        "colab": {
          "base_uri": "https://localhost:8080/"
        },
        "outputId": "790b520e-e43c-4760-af3c-9a5ecd27547a"
      },
      "execution_count": 11,
      "outputs": [
        {
          "output_type": "stream",
          "name": "stdout",
          "text": [
            "레이블 인코딩 : [1, 2, 3, 4, 6, 7]\n",
            "단어 집합 : {'the': 1, 'earth': 2, 'is': 3, 'an': 4, 'awesome': 5, 'place': 6, 'live': 7}\n"
          ]
        },
        {
          "output_type": "execute_result",
          "data": {
            "text/plain": [
              "array([[1, 2, 3],\n",
              "       [4, 5, 6],\n",
              "       [0, 7, 8]], dtype=int32)"
            ]
          },
          "metadata": {},
          "execution_count": 11
        }
      ]
    },
    {
      "cell_type": "markdown",
      "source": [
        "원핫인코딩 : [01000...0000]\\\n",
        "워드임베딩 : [0.1 -1.2 0.8 0.2 1.8]"
      ],
      "metadata": {
        "id": "sniAOJmG-3Gz"
      }
    },
    {
      "cell_type": "code",
      "source": [
        ""
      ],
      "metadata": {
        "id": "EUiMwfp8_SMD"
      },
      "execution_count": 12,
      "outputs": []
    },
    {
      "cell_type": "markdown",
      "source": [
        "##워드 임베딩(Word Embedding)"
      ],
      "metadata": {
        "id": "tQQ_1MPQ_hJ-"
      }
    },
    {
      "cell_type": "code",
      "source": [
        "from tensorflow.keras.preprocessing.text import Tokenizer\n",
        "from tensorflow.keras.preprocessing.sequence import pad_sequences\n",
        "from keras.layers import Embedding\n",
        "# 토큰화\n",
        "tokenized_text = [['Hepe','to','see','you','soon'],['Nice','to','see','you','again']]\n",
        "\n",
        "# 각 단어에 대한 레이블 인코딩\n",
        "encoded_text =[[7,1,2,3,4],[5,1,2,3,6]]\n",
        "\n",
        "# 위 레이블 인코딩 데이터가 아래의 임베딩 층의 입력이 된다\n",
        "vocab_size = 7\n",
        "embedding_dim=2\n",
        "Embedding(vocab_size, embedding_dim, input_length=5)"
      ],
      "metadata": {
        "colab": {
          "base_uri": "https://localhost:8080/"
        },
        "id": "siYGrzwm_jOz",
        "outputId": "41e95d6a-b328-4333-e52e-eb5c49223582"
      },
      "execution_count": 20,
      "outputs": [
        {
          "output_type": "execute_result",
          "data": {
            "text/plain": [
              "<keras.layers.embeddings.Embedding at 0x7f6d3e5bbe10>"
            ]
          },
          "metadata": {},
          "execution_count": 20
        }
      ]
    },
    {
      "cell_type": "markdown",
      "source": [
        "##모델링(Modeling)"
      ],
      "metadata": {
        "id": "wEJuW1PjBjcq"
      }
    },
    {
      "cell_type": "code",
      "source": [
        "from tensorflow.keras.models import Sequential\n",
        "from tensorflow.keras.layers import Dense\n",
        "model = Sequential()\n",
        "# model.add(Embedding(vocab_size, output_dim, input_length))\n",
        "model.add(Dense(8, input_dim=4, activation='relu'))\n",
        "model.add(Dense(1,activation=\"sigmoid\")) #출력층"
      ],
      "metadata": {
        "id": "C0L072EdBn0Y"
      },
      "execution_count": 29,
      "outputs": []
    },
    {
      "cell_type": "code",
      "source": [
        "model.summary()"
      ],
      "metadata": {
        "colab": {
          "base_uri": "https://localhost:8080/"
        },
        "id": "fzOBmVuBDRT2",
        "outputId": "3c3b8f43-e138-4a3c-d0a7-07eeb68e4273"
      },
      "execution_count": 30,
      "outputs": [
        {
          "output_type": "stream",
          "name": "stdout",
          "text": [
            "Model: \"sequential_13\"\n",
            "_________________________________________________________________\n",
            " Layer (type)                Output Shape              Param #   \n",
            "=================================================================\n",
            " dense_12 (Dense)            (None, 8)                 40        \n",
            "                                                                 \n",
            " dense_13 (Dense)            (None, 1)                 9         \n",
            "                                                                 \n",
            "=================================================================\n",
            "Total params: 49\n",
            "Trainable params: 49\n",
            "Non-trainable params: 0\n",
            "_________________________________________________________________\n"
          ]
        }
      ]
    },
    {
      "cell_type": "markdown",
      "source": [
        "##컴파일(Compile)과 훈련(Training)"
      ],
      "metadata": {
        "id": "vtTd6z0ADU-M"
      }
    },
    {
      "cell_type": "code",
      "source": [
        "from tensorflow.keras.layers import SimpleRNN, Embedding, Dense\n",
        "from tensorflow.keras.models import Sequential\n",
        "\n",
        "vocab_size = 10000\n",
        "embedding_dim = 32\n",
        "hidden_units = 32\n",
        "\n",
        "model = Sequential()\n",
        "model.add(Embedding(vocab_size, embedding_dim))\n",
        "model.add(SimpleRNN(hidden_units))\n",
        "model.add(Dense(1, activation='sigmoid'))\n",
        "model.compile(optimizer='rmsprop', loss='binary_crossentropy', metrics=['acc'])"
      ],
      "metadata": {
        "id": "CitRk1B9DciC"
      },
      "execution_count": 31,
      "outputs": []
    },
    {
      "cell_type": "code",
      "source": [
        "# 위의 compile() 코드의 연장선상인 코드\n",
        "model.fit(X_train, y_train, epochs=10, batch_size=32)\n",
        "model.fit(X_train, y_train, epochs=10, batch_size=32, verbose=0, validation_data(X_val, y_val))\n",
        "# 훈련 데이터의 20%를 검증 데이터로 사용.\n",
        "model.fit(X_train, y_train, epochs=10, batch_size=32, verbose=0, validation_split=0.2)"
      ],
      "metadata": {
        "colab": {
          "base_uri": "https://localhost:8080/",
          "height": 137
        },
        "id": "-IuH7IG6Dt9h",
        "outputId": "978064e8-be58-4fef-a89c-7728f26f6229"
      },
      "execution_count": 34,
      "outputs": [
        {
          "output_type": "error",
          "ename": "SyntaxError",
          "evalue": "ignored",
          "traceback": [
            "\u001b[0;36m  File \u001b[0;32m\"<ipython-input-34-d0c579cbff94>\"\u001b[0;36m, line \u001b[0;32m3\u001b[0m\n\u001b[0;31m    model.fit(X_train, y_train, epochs=10, batch_size=32, verbose=0, validation_data(X_val, y_val))\u001b[0m\n\u001b[0m                                                                    ^\u001b[0m\n\u001b[0;31mSyntaxError\u001b[0m\u001b[0;31m:\u001b[0m positional argument follows keyword argument\n"
          ]
        }
      ]
    },
    {
      "cell_type": "markdown",
      "source": [
        "선형회귀 구현 Sequential vs Functional"
      ],
      "metadata": {
        "id": "cADYzQAQglJD"
      }
    },
    {
      "cell_type": "code",
      "source": [
        "import numpy as np\n",
        "import matplotlib.pyplot as plt\n",
        "from tensorflow.keras.models import Sequential\n",
        "from tensorflow.keras.layers import Dense\n",
        "from tensorflow.keras import optimizers\n",
        "x=[1,2,3,4,5,6,7,8,9]\n",
        "y=[11,22,33,44,53,66,77,87,95]\n",
        "\n",
        "model = Sequential()\n",
        "model.add(Dense(1, input_dim=1, activation='linear'))\n",
        "sgd=optimizers.SGD(Ir=0.01)\n",
        "model.compile(optimizer=sgd, loss='mse', metrics=['mse'])\n",
        "model.fit(x,y, epochs=300)"
      ],
      "metadata": {
        "colab": {
          "base_uri": "https://localhost:8080/",
          "height": 400
        },
        "id": "s0W-ETSMgipV",
        "outputId": "39b4d2d1-1150-4c96-e4b0-b0a3fc8b0d60"
      },
      "execution_count": 2,
      "outputs": [
        {
          "output_type": "error",
          "ename": "TypeError",
          "evalue": "ignored",
          "traceback": [
            "\u001b[0;31m---------------------------------------------------------------------------\u001b[0m",
            "\u001b[0;31mTypeError\u001b[0m                                 Traceback (most recent call last)",
            "\u001b[0;32m<ipython-input-2-647eb455410b>\u001b[0m in \u001b[0;36m<module>\u001b[0;34m()\u001b[0m\n\u001b[1;32m      9\u001b[0m \u001b[0mmodel\u001b[0m \u001b[0;34m=\u001b[0m \u001b[0mSequential\u001b[0m\u001b[0;34m(\u001b[0m\u001b[0;34m)\u001b[0m\u001b[0;34m\u001b[0m\u001b[0;34m\u001b[0m\u001b[0m\n\u001b[1;32m     10\u001b[0m \u001b[0mmodel\u001b[0m\u001b[0;34m.\u001b[0m\u001b[0madd\u001b[0m\u001b[0;34m(\u001b[0m\u001b[0mDense\u001b[0m\u001b[0;34m(\u001b[0m\u001b[0;36m1\u001b[0m\u001b[0;34m,\u001b[0m \u001b[0minput_dim\u001b[0m\u001b[0;34m=\u001b[0m\u001b[0;36m1\u001b[0m\u001b[0;34m,\u001b[0m \u001b[0mactivation\u001b[0m\u001b[0;34m=\u001b[0m\u001b[0;34m'linear'\u001b[0m\u001b[0;34m)\u001b[0m\u001b[0;34m)\u001b[0m\u001b[0;34m\u001b[0m\u001b[0;34m\u001b[0m\u001b[0m\n\u001b[0;32m---> 11\u001b[0;31m \u001b[0msgd\u001b[0m\u001b[0;34m=\u001b[0m\u001b[0moptimizers\u001b[0m\u001b[0;34m.\u001b[0m\u001b[0mSGD\u001b[0m\u001b[0;34m(\u001b[0m\u001b[0mIr\u001b[0m\u001b[0;34m=\u001b[0m\u001b[0;36m0.01\u001b[0m\u001b[0;34m)\u001b[0m\u001b[0;34m\u001b[0m\u001b[0;34m\u001b[0m\u001b[0m\n\u001b[0m\u001b[1;32m     12\u001b[0m \u001b[0mmodel\u001b[0m\u001b[0;34m.\u001b[0m\u001b[0mcompile\u001b[0m\u001b[0;34m(\u001b[0m\u001b[0moptimizer\u001b[0m\u001b[0;34m=\u001b[0m\u001b[0msgd\u001b[0m\u001b[0;34m,\u001b[0m \u001b[0mloss\u001b[0m\u001b[0;34m=\u001b[0m\u001b[0;34m'mse'\u001b[0m\u001b[0;34m,\u001b[0m \u001b[0mmetrics\u001b[0m\u001b[0;34m=\u001b[0m\u001b[0;34m[\u001b[0m\u001b[0;34m'mse'\u001b[0m\u001b[0;34m]\u001b[0m\u001b[0;34m)\u001b[0m\u001b[0;34m\u001b[0m\u001b[0;34m\u001b[0m\u001b[0m\n\u001b[1;32m     13\u001b[0m \u001b[0mmodel\u001b[0m\u001b[0;34m.\u001b[0m\u001b[0mfit\u001b[0m\u001b[0;34m(\u001b[0m\u001b[0mx\u001b[0m\u001b[0;34m,\u001b[0m\u001b[0my\u001b[0m\u001b[0;34m,\u001b[0m \u001b[0mepochs\u001b[0m\u001b[0;34m=\u001b[0m\u001b[0;36m300\u001b[0m\u001b[0;34m)\u001b[0m\u001b[0;34m\u001b[0m\u001b[0;34m\u001b[0m\u001b[0m\n",
            "\u001b[0;32m/usr/local/lib/python3.7/dist-packages/keras/optimizer_v2/gradient_descent.py\u001b[0m in \u001b[0;36m__init__\u001b[0;34m(self, learning_rate, momentum, nesterov, name, **kwargs)\u001b[0m\n\u001b[1;32m    100\u001b[0m                \u001b[0mname\u001b[0m\u001b[0;34m=\u001b[0m\u001b[0;34m\"SGD\"\u001b[0m\u001b[0;34m,\u001b[0m\u001b[0;34m\u001b[0m\u001b[0;34m\u001b[0m\u001b[0m\n\u001b[1;32m    101\u001b[0m                **kwargs):\n\u001b[0;32m--> 102\u001b[0;31m     \u001b[0msuper\u001b[0m\u001b[0;34m(\u001b[0m\u001b[0mSGD\u001b[0m\u001b[0;34m,\u001b[0m \u001b[0mself\u001b[0m\u001b[0;34m)\u001b[0m\u001b[0;34m.\u001b[0m\u001b[0m__init__\u001b[0m\u001b[0;34m(\u001b[0m\u001b[0mname\u001b[0m\u001b[0;34m,\u001b[0m \u001b[0;34m**\u001b[0m\u001b[0mkwargs\u001b[0m\u001b[0;34m)\u001b[0m\u001b[0;34m\u001b[0m\u001b[0;34m\u001b[0m\u001b[0m\n\u001b[0m\u001b[1;32m    103\u001b[0m     \u001b[0mself\u001b[0m\u001b[0;34m.\u001b[0m\u001b[0m_set_hyper\u001b[0m\u001b[0;34m(\u001b[0m\u001b[0;34m\"learning_rate\"\u001b[0m\u001b[0;34m,\u001b[0m \u001b[0mkwargs\u001b[0m\u001b[0;34m.\u001b[0m\u001b[0mget\u001b[0m\u001b[0;34m(\u001b[0m\u001b[0;34m\"lr\"\u001b[0m\u001b[0;34m,\u001b[0m \u001b[0mlearning_rate\u001b[0m\u001b[0;34m)\u001b[0m\u001b[0;34m)\u001b[0m\u001b[0;34m\u001b[0m\u001b[0;34m\u001b[0m\u001b[0m\n\u001b[1;32m    104\u001b[0m     \u001b[0mself\u001b[0m\u001b[0;34m.\u001b[0m\u001b[0m_set_hyper\u001b[0m\u001b[0;34m(\u001b[0m\u001b[0;34m\"decay\"\u001b[0m\u001b[0;34m,\u001b[0m \u001b[0mself\u001b[0m\u001b[0;34m.\u001b[0m\u001b[0m_initial_decay\u001b[0m\u001b[0;34m)\u001b[0m\u001b[0;34m\u001b[0m\u001b[0;34m\u001b[0m\u001b[0m\n",
            "\u001b[0;32m/usr/local/lib/python3.7/dist-packages/keras/optimizer_v2/optimizer_v2.py\u001b[0m in \u001b[0;36m__init__\u001b[0;34m(self, name, gradient_aggregator, gradient_transformers, **kwargs)\u001b[0m\n\u001b[1;32m    347\u001b[0m     \u001b[0;32mfor\u001b[0m \u001b[0mk\u001b[0m \u001b[0;32min\u001b[0m \u001b[0mkwargs\u001b[0m\u001b[0;34m:\u001b[0m\u001b[0;34m\u001b[0m\u001b[0;34m\u001b[0m\u001b[0m\n\u001b[1;32m    348\u001b[0m       \u001b[0;32mif\u001b[0m \u001b[0mk\u001b[0m \u001b[0;32mnot\u001b[0m \u001b[0;32min\u001b[0m \u001b[0mallowed_kwargs\u001b[0m\u001b[0;34m:\u001b[0m\u001b[0;34m\u001b[0m\u001b[0;34m\u001b[0m\u001b[0m\n\u001b[0;32m--> 349\u001b[0;31m         raise TypeError(\"Unexpected keyword argument \"\n\u001b[0m\u001b[1;32m    350\u001b[0m                         \u001b[0;34mf\"passed to optimizer: {str(k)}. Allowed kwargs are \"\u001b[0m\u001b[0;34m\u001b[0m\u001b[0;34m\u001b[0m\u001b[0m\n\u001b[1;32m    351\u001b[0m                         f\"{allowed_kwargs}.\")\n",
            "\u001b[0;31mTypeError\u001b[0m: Unexpected keyword argument passed to optimizer: Ir. Allowed kwargs are {'lr', 'decay', 'global_clipnorm', 'clipvalue', 'clipnorm'}."
          ]
        }
      ]
    },
    {
      "cell_type": "code",
      "source": [
        ""
      ],
      "metadata": {
        "id": "FxFCnZFGNy7y"
      },
      "execution_count": null,
      "outputs": []
    }
  ]
}
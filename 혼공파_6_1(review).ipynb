{
  "nbformat": 4,
  "nbformat_minor": 0,
  "metadata": {
    "colab": {
      "name": "혼공파 6-1.ipynb",
      "provenance": [],
      "collapsed_sections": [],
      "authorship_tag": "ABX9TyN9G2iBJfnDxS3HkdO5xUT3"
    },
    "kernelspec": {
      "name": "python3",
      "display_name": "Python 3"
    },
    "language_info": {
      "name": "python"
    }
  },
  "cells": [
    {
      "cell_type": "markdown",
      "source": [
        "# try except 구문"
      ],
      "metadata": {
        "id": "tv5rtI7BP3bt"
      }
    },
    {
      "cell_type": "code",
      "execution_count": 2,
      "metadata": {
        "colab": {
          "base_uri": "https://localhost:8080/"
        },
        "id": "T8ApIgIWM4T9",
        "outputId": "d01e4d3d-3958-4d22-97b9-fb71dc711515"
      },
      "outputs": [
        {
          "output_type": "stream",
          "name": "stdout",
          "text": [
            "정수 입력>yes\n",
            "무언가 잘못되었습니다.\n"
          ]
        }
      ],
      "source": [
        "try: #예외가 발생할 가능성이 있는 구문\n",
        "  number_input_a = int(input(\"정수 입력>\"))\n",
        "  print(\"원의 반지름:\", number_input_a)\n",
        "  print(\"원의 둘레:\", 2 * 3.14 * number_input_a)\n",
        "  print(\"원의 넓이:\", 3.14 * number_input_a * number_input_a)\n",
        "except: #예외가 발생했을 때 실행할 구문\n",
        "  print(\"무언가 잘못되었습니다.\")"
      ]
    },
    {
      "cell_type": "code",
      "source": [
        "list_input_a = [\"52\", \"273\", \"32\", \"스파이\",\"103\"]\n",
        "\n",
        "list_number = []\n",
        "for item in list_input_a:\n",
        "  try:\n",
        "    float(item)\n",
        "    list_number.append(item) #에러가 발생하지 않는한 숫자를 리스트에 추가\n",
        "  except:\n",
        "    pass #에러가 발생하면 패스\n",
        "\n",
        "print(\"{} 내부에 있는 숫자는\".format(list_input_a))\n",
        "print(\"{} 입니다.\".format(list_number))"
      ],
      "metadata": {
        "colab": {
          "base_uri": "https://localhost:8080/"
        },
        "id": "7_Sbnb5gQ6XI",
        "outputId": "3b946ad5-1fe8-4741-f830-a269716fde47"
      },
      "execution_count": 4,
      "outputs": [
        {
          "output_type": "stream",
          "name": "stdout",
          "text": [
            "['52', '273', '32', '스파이', '103'] 내부에 있는 숫자는\n",
            "['52', '273', '32', '103'] 입니다.\n"
          ]
        }
      ]
    },
    {
      "cell_type": "code",
      "source": [
        "try: #예외가 발생할 가능성이 있는 코드\n",
        "  number_input_a = int(input(\"정수 입력>\"))\n",
        "  print(\"원의 반지름:\",number_input_a)\n",
        "  print(\"원의 둘레:\",2 * 3.14 * number_input_a)\n",
        "  print(\"원의 넓이:\",3.14 * number_input_a * number_input_a)\n",
        "except: #예외가 발생했을 때 실행할 코드\n",
        "  print(\"정수를 입력해달라고 했잖아요?!\")\n",
        "else: #예외가 발생하니 않았을 때 실행할 코드\n",
        "  print(\"예외가 발생하지 않았습니다.\")\n",
        "finally: # 무조건 실행할 코드\n",
        "  print(\"일단 프로그램이 어떻게든 끝났습니다.\")"
      ],
      "metadata": {
        "colab": {
          "base_uri": "https://localhost:8080/"
        },
        "id": "fO5AFcmfS-b1",
        "outputId": "ccf4c34f-9479-496a-c41e-fc05ff2bd167"
      },
      "execution_count": 5,
      "outputs": [
        {
          "output_type": "stream",
          "name": "stdout",
          "text": [
            "정수 입력>273\n",
            "원의 반지름: 273\n",
            "원의 둘레: 1714.44\n",
            "원의 넓이: 234021.06\n",
            "예외가 발생하지 않았습니다.\n",
            "일단 프로그램이 어떻게든 끝났습니다.\n"
          ]
        }
      ]
    },
    {
      "cell_type": "code",
      "source": [
        "try: #예외가 발생할 가능성이 있는 코드\n",
        "  number_input_a = int(input(\"정수 입력>\"))\n",
        "  print(\"원의 반지름:\",number_input_a)\n",
        "  print(\"원의 둘레:\",2 * 3.14 * number_input_a)\n",
        "  print(\"원의 넓이:\",3.14 * number_input_a * number_input_a)\n",
        "except: #예외가 발생했을 때 실행할 코드\n",
        "  print(\"정수를 입력해달라고 했잖아요?!\")\n",
        "else: #예외가 발생하니 않았을 때 실행할 코드\n",
        "  print(\"예외가 발생하지 않았습니다.\")\n",
        "finally: # 무조건 실행할 코드\n",
        "  print(\"일단 프로그램이 어떻게든 끝났습니다.\")"
      ],
      "metadata": {
        "colab": {
          "base_uri": "https://localhost:8080/"
        },
        "id": "OWj0hI7LUvVL",
        "outputId": "8271e429-0c6b-4d30-cd35-f0283d1d83c3"
      },
      "execution_count": 6,
      "outputs": [
        {
          "output_type": "stream",
          "name": "stdout",
          "text": [
            "정수 입력>yes\n",
            "정수를 입력해달라고 했잖아요?!\n",
            "일단 프로그램이 어떻게든 끝났습니다.\n"
          ]
        }
      ]
    },
    {
      "cell_type": "code",
      "source": [
        "try:\n",
        "  file = open(\"info.txt\",\"w\")\n",
        "  file.close()\n",
        "except Exception as e:\n",
        "  print(e)\n",
        "print(\"# 파일이 제대로 닫혔는지 확인하기\")\n",
        "print(\"file.closed:\", file.closed)"
      ],
      "metadata": {
        "colab": {
          "base_uri": "https://localhost:8080/"
        },
        "id": "dEe2fD6aUzEt",
        "outputId": "3e9aea49-4aff-4bf8-8031-ba947fb91a67"
      },
      "execution_count": 7,
      "outputs": [
        {
          "output_type": "stream",
          "name": "stdout",
          "text": [
            "# 파일이 제대로 닫혔는지 확인하기\n",
            "file.closed: True\n"
          ]
        }
      ]
    },
    {
      "cell_type": "code",
      "source": [
        ""
      ],
      "metadata": {
        "id": "pi8BJN1BWukl"
      },
      "execution_count": null,
      "outputs": []
    }
  ]
}